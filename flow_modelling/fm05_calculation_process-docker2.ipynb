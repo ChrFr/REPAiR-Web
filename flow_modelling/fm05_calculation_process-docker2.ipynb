{
 "cells": [
  {
   "cell_type": "markdown",
   "metadata": {},
   "source": [
    "# Compute the effects of solution on flows\n",
    "\n",
    "This notebook illustrates the interface for computing the changes by solutions. For more detailed description of the why-s and how-s and the Solutions, see the notebooks with lower fm-number.\n",
    "\n",
    "## The algorithm expects a graph (G) with these properties\n",
    "\n",
    "+ vertices have unique IDs, stored in an internal vertex property called *id* (string)\n",
    "\n",
    "+ there is only a single edge between two vertices (no parallels)\n",
    "\n",
    "+ edges have an internal edge property called *flow*, which is a dictionary that must have:\n",
    "\n",
    "    + *amount* : float\n",
    "    \n",
    "    + *composition* : dictionary of { material (string) : amount (float) }\n",
    "    \n",
    "\n",
    "## The algorithm expects the following input\n",
    "\n",
    "Currently there are 6 parameters for computing changes on a graph. From these 6, 3 are required and 3 are optional. This second group is only needed when a flows needs to be shifted. For more details see `solution_object.json`\n",
    "\n",
    "### Input\n",
    "\n",
    "+ a graph (G) as described above, type `graph_tool.Graph`\n",
    "\n",
    "+ a *solution object* as described by the `solution_object.json` schema\n",
    "\n",
    "### Output\n",
    "\n",
    "+ an Edge PropertyMap of the signed changes that is caused by the solution"
   ]
  },
  {
   "cell_type": "code",
   "execution_count": 15,
   "metadata": {},
   "outputs": [],
   "source": [
    "import graph_tool as gt\n",
    "from graph_tool import util\n",
    "from graph_tool import stats as gt_stats\n",
    "import graph_tool.search\n",
    "from graph_tool import Edge, Graph, Vertex, PropertyMap\n",
    "import graph_tool.draw\n",
    "\n",
    "import cairo\n",
    "import numpy as np\n",
    "import datetime\n",
    "from collections import namedtuple\n",
    "\n",
    "import  os\n",
    "os.chdir(\"/tmp\") # the ./flow_modelling dir is mapped to /tmp in the Docker container"
   ]
  },
  {
   "cell_type": "code",
   "execution_count": 19,
   "metadata": {},
   "outputs": [],
   "source": [
    "from pprint import pprint"
   ]
  },
  {
   "cell_type": "code",
   "execution_count": 2,
   "metadata": {},
   "outputs": [
    {
     "name": "stdout",
     "output_type": "stream",
     "text": [
      "Last run: 2019-02-06\n"
     ]
    }
   ],
   "source": [
    "print(\"Last run:\", datetime.datetime.now().date().isoformat())"
   ]
  },
  {
   "cell_type": "code",
   "execution_count": 78,
   "metadata": {},
   "outputs": [],
   "source": [
    "def find_vertex_index(G, vprop_id):\n",
    "    \"\"\"Finds the index of a vertex with the given ID property\n",
    "    \n",
    "    The order of the vertices traversed by the vertices() iterator \n",
    "    always corresponds to the vertex index ordering, as given by the vertex_index property map.\n",
    "    \n",
    "    vprop_id : int\n",
    "        The vertex ID property\n",
    "    \n",
    "    Returns\n",
    "    -------\n",
    "    vertex index : int\n",
    "    \"\"\"\n",
    "    assert isinstance(vprop_id, int)\n",
    "    for i, v in enumerate(G.vertices()):\n",
    "        if G.vp.id[v] == vprop_id:\n",
    "            return i\n",
    "\n",
    "def split_flows(G):\n",
    "    \"\"\"Split the flows based on material composition\n",
    "    \n",
    "    If a flow is composed of different materials, it is split into individual flows per material \n",
    "    with the corresponding amount.\n",
    "    If the flow is composed of a single material, the composition property is removed and replaced with material.\n",
    "    \n",
    "    Returns\n",
    "    -------\n",
    "    graph\n",
    "        The updated graph\n",
    "    eprop_material\n",
    "        Edge property (materials), string\n",
    "    eprop_amount\n",
    "        Edge property (amount), double\n",
    "    eprop_amount_text\n",
    "        Edge property (amount), string. Only needed for plotting the amounts on the edges with graph-tool\n",
    "    \"\"\"\n",
    "    g = G.copy()\n",
    "    g.clear_edges()\n",
    "    del g.edge_properties['flow']\n",
    "    eprops = G.edge_properties.keys()\n",
    "    amount_list = []\n",
    "    material_list = []\n",
    "    assert 'flow' in eprops, \"The graph must have 'flow' edge property\"\n",
    "    e_list = []\n",
    "    for e in G.edges():\n",
    "        prop = G.ep.flow[e]\n",
    "        assert isinstance(prop, dict), \"Edge property flow must be a dictionary in edge {}\".format(e)\n",
    "        for material, percent in prop['composition'].items():\n",
    "            e_list.append(np.array([e.source(), e.target()], dtype=int))\n",
    "            amount_list.append(float(prop['amount']) * float(percent))\n",
    "            material_list.append(material)\n",
    "    e_array = np.vstack(e_list)\n",
    "    g.add_edge_list(e_array)\n",
    "    eprop_amount = g.new_edge_property(\"float\", vals=amount_list)\n",
    "    eprop_amount_text = g.new_edge_property(\"string\", vals=[round(i,2) for i in amount_list])\n",
    "    eprop_material = g.new_edge_property(\"string\", vals=material_list)\n",
    "    return (g, eprop_material, eprop_amount, eprop_amount_text)\n",
    "\n",
    "\n",
    "def filter_flows(G, solution_object):\n",
    "    \"\"\"Keep only the affected_flows and solution_flows in the graph\"\"\"\n",
    "    edge_mask = G.new_edge_property(\"bool\")\n",
    "    if len(solution_object.solution_flows) > 0:\n",
    "        assert isinstance(solution_object.solution_flows[0], tuple), \"Flow must be a tuple of (edge id, material name)\"\n",
    "    elif len(solution_object.affected_flows) > 0:\n",
    "        assert isinstance(solution_object.affected_flows[0], tuple), \"Flow must be a tuple of (edge id, material name)\"\n",
    "    selected_flows = solution_object.affected_flows + solution_object.solution_flows\n",
    "    for e in G.edges():\n",
    "        eid = G.ep.id[e]\n",
    "        mat = G.ep.material[e]\n",
    "        key = (eid, mat)\n",
    "        if key in selected_flows:\n",
    "            edge_mask[e] = True\n",
    "        else:\n",
    "            edge_mask[e] = False\n",
    "    return edge_mask\n",
    "\n",
    "\n",
    "class NodeVisitor(gt.search.BFSVisitor):\n",
    "\n",
    "    def __init__(self, name, solution, amount, visited, change):\n",
    "        self.id = name\n",
    "        self.solution = solution\n",
    "        self.amount = amount\n",
    "        self.visited = visited\n",
    "        self.change = change\n",
    "\n",
    "    def discover_vertex(self, u):\n",
    "        \"\"\"This is invoked when a vertex is encountered for the first time.\"\"\"\n",
    "        pass\n",
    "\n",
    "    def examine_vertex(self, u):\n",
    "        \"\"\"Compute the amount change on each inflow for the vertex\n",
    "        \n",
    "        This function is invoked on a vertex as it is popped from the queue.\n",
    "\n",
    "        Returns\n",
    "        -------\n",
    "        dict\n",
    "            {edge : change}\n",
    "        \"\"\"\n",
    "        changes = {}\n",
    "        if u.in_degree() > 0:\n",
    "            all_in = list(u.in_edges())\n",
    "            for i,e in enumerate(all_in):\n",
    "                if not self.visited[e]:\n",
    "                    e_src = e.source()\n",
    "                    e_src_out = [e for e in e_src.out_edges()]\n",
    "                    if len(e_src_out) > 1:\n",
    "                        # For the case when an inflow edge shares the source vertex\n",
    "                        self.change[e] = ( self.amount[e] / sum([self.amount[out_f] for out_f in e_src_out]) ) * self.solution\n",
    "                    else:\n",
    "                        self.change[e] = ( self.amount[e] / sum([self.amount[in_f] for in_f in all_in]) ) * self.solution\n",
    "                    #print(self.id[e.source()], '-->', self.id[e.target()], self.change[e])\n",
    "                    self.visited[e] = True\n",
    "        else:\n",
    "            #print(\"source node,\", u.vp.id)\n",
    "            pass\n",
    "        \n",
    "def traverse_graph(G, solution_flows, include, solution, amount, upstream=True):\n",
    "    \"\"\"Traverse the graph in a breadth-first-search manner\n",
    "    \n",
    "    Parameters\n",
    "    ----------\n",
    "    G : the graph to explore\n",
    "    solution_flows : the starting edges, normally this is the *solution_flows*\n",
    "    include : edge propery map (bool) to indicate the edges that are part of the solution definition\n",
    "    solution : double, the solution\n",
    "    amount : edge property map (double) of the material amounts\n",
    "    upstream : The direction of traversal. When upstream is True, the graph is explored upstream first, otherwise downstream first.  \n",
    "    \n",
    "    Returns\n",
    "    -------\n",
    "    Edge ProperyMap (float)\n",
    "        The signed change on the edges\n",
    "    \"\"\"\n",
    "    # Property map for keeping track of the visited edge. Once an edge has been visited\n",
    "    # it won't be processed anymore.\n",
    "    defaults = [(False,0.0) for x in range(G.num_edges(ignore_filter=True))]\n",
    "    change_collection = {}\n",
    "    \n",
    "    for solution_edge_nr, edge_tuple in enumerate(solution_flows):\n",
    "        change_collection[solution_edge_nr] = G.new_edge_property(\"float\", vals=defaults[1])\n",
    "        visited = G.new_edge_property(\"bool\", vals=defaults[0])\n",
    "        edge_id, edge_material = edge_tuple\n",
    "        edges_same_id = util.find_edge(G, G.ep[\"id\"], edge_id)\n",
    "        edge_list = [e for e in edges_same_id if G.ep.material[e] == edge_material]\n",
    "        assert len(edge_list) < 2, \"(Edge ID: %s, material:%s) is not unique!\" % (edge_id, edge_material)\n",
    "        assert len(edge_list) == 1, \"Could not find (Edge ID: %s, material:%s)\" % (edge_id, edge_material)\n",
    "        edge = edge_list[0]\n",
    "        #G.edge_properties[\"change\"] = change\n",
    "        # By default we go upstream first, because 'demand dictates supply'\n",
    "        if upstream:\n",
    "            G.set_reversed(True)\n",
    "        else:\n",
    "            G.set_reversed(False)\n",
    "        node = edge.target()\n",
    "        # We are only interested in the edges that define the solution\n",
    "        G.set_edge_filter(include)\n",
    "        #print(\"\\nTraversing in 1. direction\")\n",
    "        gt.search.bfs_search(G, node, NodeVisitor(G.vp[\"id\"], solution, amount, visited, \n",
    "                                                  change_collection[solution_edge_nr]))\n",
    "        if G.is_reversed():\n",
    "            G.set_reversed(False)\n",
    "        else:\n",
    "            G.set_reversed(True)\n",
    "        #print(\"\\nTraversing in 2. direction\")\n",
    "        gt.search.bfs_search(G, node, NodeVisitor(G.vp[\"id\"], solution, amount, visited, \n",
    "                                                  change_collection[solution_edge_nr]))\n",
    "        del visited\n",
    "        G.set_reversed(False)\n",
    "        G.clear_filters()\n",
    "\n",
    "    change = G.new_edge_property(\"float\", vals=defaults[1])\n",
    "    for edge in G.edges():\n",
    "        change[edge] = sum([change_collection[solution_edge_nr][edge] \n",
    "                            for solution_edge_nr,edge_tuple in enumerate(solution_flows)])\n",
    "    return change\n",
    "\n",
    "\n",
    "def shift_flow(G, edge_to_remove, target_vertex, eprop_material, eprop_mass, eprop_mass_text):\n",
    "    \"\"\"Shifts a flow by removing an existing flow and adding a new flow\n",
    "    \n",
    "    Return\n",
    "    ------\n",
    "    graph\n",
    "        (Copy of the graph with the shifted flow, copies of the property maps with the shifted flow)\n",
    "    \"\"\"\n",
    "    assert isinstance(G, Graph)\n",
    "    assert isinstance(edge_to_remove, Edge)\n",
    "    assert isinstance(target_vertex, Vertex)\n",
    "    assert isinstance(eprop_material, PropertyMap)\n",
    "    assert isinstance(eprop_mass, PropertyMap)\n",
    "    assert isinstance(eprop_mass_text, PropertyMap)\n",
    "    \n",
    "    g = G.copy()\n",
    "    mat = g.new_edge_property(\"string\", vals=eprop_material)\n",
    "    mass = g.new_edge_property(\"float\", vals=eprop_mass)\n",
    "    mass_text = g.new_edge_property(\"string\", vals=eprop_mass_text)\n",
    "    \n",
    "    edge_to_add = g.add_edge(edge_to_remove.source(), target_vertex)\n",
    "    mat[edge_to_add] = eprop_material[edge_to_remove]\n",
    "    mass[edge_to_add] = eprop_mass[edge_to_remove]\n",
    "    mass_text[edge_to_add] = eprop_mass_text[edge_to_remove]\n",
    "    g.remove_edge(edge_to_remove)\n",
    "    \n",
    "    return (g, edge_to_add, mat, mass, mass_text)\n",
    "\n",
    "\n",
    "def compare_graphs(G1, G2):\n",
    "    \"\"\"Compare G2 to G1 and report the changes in vertices and edges\"\"\"\n",
    "    assert \"id\" in G1.vertex_properties.keys()\n",
    "    assert \"id\" in G2.vertex_properties.keys()\n",
    "    vtx_removed = set(G1.vp[\"id\"]) - set(G2.vp[\"id\"])\n",
    "    vtx_added = set(G2.vp[\"id\"]) - set(G1.vp[\"id\"])\n",
    "    e_removed = [e for e in G1.edges() if e not in G2.edges()]\n",
    "    e_added = [e for e in G2.edges() if e not in G1.edges()]\n",
    "    \n",
    "    print(\"Nodes removed from G1:\", \", \".join(vtx_removed))\n",
    "    print(\"Nodes added to G1:\", \", \".join(vtx_added))\n",
    "    print(\"\\nFlows removed from G1:\")\n",
    "    for e in e_removed:\n",
    "        print(G1.vp.id[e.source()], '-->', G1.vp.id[e.target()])\n",
    "    print(\"\\nFlows added to G1:\")\n",
    "    for e in e_added:\n",
    "        print(G2.vp.id[e.source()], '-->', G2.vp.id[e.target()])\n",
    "    pass\n",
    "\n",
    "\n",
    "def apply_ratio(G, solution_edge, ratios, mass):\n",
    "    \"\"\"Apply the ratio to the flows\n",
    "    \n",
    "    Returns\n",
    "    -------\n",
    "    Edge PropertyMap\n",
    "        Signed change of the amount\n",
    "    \"\"\"\n",
    "    change_map = G.new_edge_property(\"float\")\n",
    "    v = solution_edge.target()\n",
    "    for e in v.in_edges():\n",
    "        if e != solution_edge:\n",
    "            change = ( mass[solution_edge] * ratios[solution_edge] ) - mass[solution_edge]\n",
    "            change_map[e] = change\n",
    "            #print(G.vp.id[e.source()], '-->', G.vp.id[e.target()], change)\n",
    "        else:\n",
    "            change_map[e] = 0.0\n",
    "    return change_map\n",
    "\n",
    "\n",
    "def plot_sol_amount(g, amount, colors=None):\n",
    "    amount_text = g.new_edge_property(\"string\", vals=[round(i,2) for i in amount])\n",
    "    if colors:\n",
    "        eprops_p = {\"font_slant\":cairo.FONT_SLANT_ITALIC, \"color\":colors}\n",
    "    else:\n",
    "        eprops_p = {\"font_slant\":cairo.FONT_SLANT_ITALIC}\n",
    "    pos = gt.draw.sfdp_layout(g)\n",
    "    gt.draw.graph_draw(g, vertex_size=15, vertex_text=g.vp.id,\n",
    "                       pos=pos,\n",
    "                       vprops={\"text_position\":0.5, \"font_weight\": cairo.FONT_WEIGHT_BOLD, \"font_size\":14},\n",
    "                       eprops=eprops_p,\n",
    "                       edge_text=amount_text,\n",
    "                       output_size=(700,600), inline=True)\n",
    "\n",
    "    \n",
    "def plot_sol_materials(g, colors=None):\n",
    "    if colors:\n",
    "        eprops_p = {\"font_slant\":cairo.FONT_SLANT_ITALIC, \"color\":colors}\n",
    "    else:\n",
    "        eprops_p = {\"font_slant\":cairo.FONT_SLANT_ITALIC}\n",
    "    gt.draw.graph_draw(g, vertex_size=15, vertex_text=g.vp.id,\n",
    "                       vprops={\"text_position\":0.5, \"font_weight\": cairo.FONT_WEIGHT_BOLD, \"font_size\":14},\n",
    "                       eprops=eprops_p,\n",
    "                       edge_text=g.ep.material,\n",
    "                       output_size=(700,600), inline=True)\n",
    "\n",
    "def print_flows(G):\n",
    "    for i,e in enumerate(G.edges()):\n",
    "        f = \"id:%s; %s --> %s; material:%s; amount:%s\"\n",
    "        print(i, f % (G.ep.id[e], G.vp.name[e.source()], G.vp.name[e.target()], G.ep.material[e], G.ep.amount[e]))"
   ]
  },
  {
   "cell_type": "code",
   "execution_count": 5,
   "metadata": {},
   "outputs": [],
   "source": [
    "G = gt.load_graph(\"keyflow-1-base.gt\")"
   ]
  },
  {
   "cell_type": "code",
   "execution_count": 6,
   "metadata": {
    "scrolled": true
   },
   "outputs": [
    {
     "name": "stdout",
     "output_type": "stream",
     "text": [
      "bvdid          (vertex)  (type: string)\n",
      "id             (vertex)  (type: int32_t)\n",
      "name           (vertex)  (type: string)\n",
      "amount         (edge)    (type: int32_t)\n",
      "id             (edge)    (type: int32_t)\n",
      "material       (edge)    (type: string)\n"
     ]
    }
   ],
   "source": [
    "G.list_properties()"
   ]
  },
  {
   "cell_type": "code",
   "execution_count": 27,
   "metadata": {},
   "outputs": [
    {
     "name": "stdout",
     "output_type": "stream",
     "text": [
      "0 id:1; oil_rig_den_haag --> oil_refinery_rotterdam; material:Crude Oil; amount:5\n",
      "1 id:2; oil_rig_rotterdam --> oil_refinery_rotterdam; material:Crude Oil; amount:15\n",
      "2 id:3; oil_refinery_rotterdam --> production_utrecht; material:Plastic; amount:100\n",
      "3 id:4; oil_refinery_rotterdam --> production_leiden; material:Plastic; amount:300\n",
      "4 id:1; oil_refinery_rotterdam --> oil_refinery_rotterdam; material:Petrol; amount:1600\n",
      "5 id:5; production_utrecht --> packaging_utrecht; material:Plastic; amount:125\n",
      "6 id:6; production_leiden --> packaging_leiden; material:Plastic; amount:375\n",
      "7 id:29; recycling_wageningen --> production_utrecht; material:Plastic; amount:50\n",
      "8 id:30; recycling_wageningen --> production_leiden; material:Plastic; amount:50\n",
      "9 id:2; recycling_wageningen --> recycling_wageningen; material:Other Waste; amount:100\n",
      "10 id:17; ah_den_haag_1 --> incinerator_eindhoven; material:Other Waste; amount:100\n",
      "11 id:20; ah_den_haag_1 --> paper_waste_collector_enschede; material:Other Waste; amount:800\n",
      "12 id:23; ah_den_haag_1 --> organic_waste_collector_nijmegen; material:Human Waste; amount:2500\n",
      "13 id:26; ah_den_haag_1 --> recycling_wageningen; material:Plastic; amount:25\n",
      "14 id:18; ah_den_haag_2 --> incinerator_eindhoven; material:Other Waste; amount:100\n",
      "15 id:21; ah_den_haag_2 --> paper_waste_collector_enschede; material:Other Waste; amount:400\n",
      "16 id:24; ah_den_haag_2 --> organic_waste_collector_nijmegen; material:Human Waste; amount:2500\n",
      "17 id:27; ah_den_haag_2 --> recycling_wageningen; material:Plastic; amount:75\n",
      "18 id:19; ah_den_haag_3 --> incinerator_eindhoven; material:Other Waste; amount:100\n",
      "19 id:22; ah_den_haag_3 --> paper_waste_collector_enschede; material:Other Waste; amount:800\n",
      "20 id:25; ah_den_haag_3 --> organic_waste_collector_nijmegen; material:Human Waste; amount:2500\n",
      "21 id:28; ah_den_haag_3 --> recycling_wageningen; material:Plastic; amount:100\n",
      "22 id:14; packaging_leiden --> ah_den_haag_1; material:Milk; amount:625\n",
      "23 id:14; packaging_leiden --> ah_den_haag_1; material:Plastic; amount:1875\n",
      "24 id:15; packaging_leiden --> ah_den_haag_2; material:Milk; amount:250\n",
      "25 id:15; packaging_leiden --> ah_den_haag_2; material:Plastic; amount:750\n",
      "26 id:16; packaging_leiden --> ah_den_haag_3; material:Milk; amount:750\n",
      "27 id:16; packaging_leiden --> ah_den_haag_3; material:Plastic; amount:2250\n",
      "28 id:11; packaging_utrecht --> ah_den_haag_1; material:Plastic; amount:150\n",
      "29 id:11; packaging_utrecht --> ah_den_haag_1; material:Cucumber; amount:850\n",
      "30 id:12; packaging_utrecht --> ah_den_haag_2; material:Plastic; amount:225\n",
      "31 id:12; packaging_utrecht --> ah_den_haag_2; material:Cucumber; amount:1275\n",
      "32 id:13; packaging_utrecht --> ah_den_haag_3; material:Plastic; amount:75\n",
      "33 id:13; packaging_utrecht --> ah_den_haag_3; material:Cucumber; amount:425\n",
      "34 id:7; cucumber_farm_naaldwijk_1 --> packaging_utrecht; material:Cucumber; amount:1500\n",
      "35 id:8; cucumber_farm_naaldwijk_2 --> packaging_utrecht; material:Cucumber; amount:1500\n",
      "36 id:9; milk_farm_friesland_1 --> packaging_leiden; material:Milk; amount:2500\n",
      "37 id:10; milk_farm_friesland_2 --> packaging_leiden; material:Milk; amount:4000\n"
     ]
    }
   ],
   "source": [
    "print_flows(G)"
   ]
  },
  {
   "cell_type": "code",
   "execution_count": 13,
   "metadata": {
    "scrolled": false
   },
   "outputs": [
    {
     "data": {
      "image/png": "[encoded data removed]",
      "text/plain": [
       "<IPython.core.display.Image object>"
      ]
     },
     "metadata": {},
     "output_type": "display_data"
    }
   ],
   "source": [
    "plot_sol_materials(G)"
   ]
  },
  {
   "cell_type": "markdown",
   "metadata": {},
   "source": [
    "## Define the `solution_flows`"
   ]
  },
  {
   "cell_type": "code",
   "execution_count": 22,
   "metadata": {},
   "outputs": [],
   "source": [
    "Solution = namedtuple('Solution', [\n",
    "    'affected_flows',\n",
    "    'solution_flows',\n",
    "    'solution',\n",
    "    'flow_to_remove',\n",
    "    'target_vertex',\n",
    "    'ratio'\n",
    "])\n",
    "Solution.__new__.__defaults__ = (None, None, 0.0, None, None, 0.0)\n",
    "solutions = [\n",
    "    Solution([(3, \"Plastic\"),(5, \"Plastic\"),(26, \"Plastic\"),(27, \"Plastic\"),(28, \"Plastic\"),(29, \"Plastic\")],\n",
    "             [(11, \"Plastic\"),(12, \"Plastic\"),(13, \"Plastic\")],\n",
    "             2),\n",
    "    Solution([(1, \"Crude Oil\"), (2, \"Crude Oil\")],\n",
    "             [],\n",
    "             3),\n",
    "    Solution([],\n",
    "             [],\n",
    "             4)\n",
    "]"
   ]
  },
  {
   "cell_type": "code",
   "execution_count": 24,
   "metadata": {},
   "outputs": [
    {
     "name": "stdout",
     "output_type": "stream",
     "text": [
      "Solution(affected_flows=[(3, 'Plastic'), (5, 'Plastic'), (26, 'Plastic'), (27, 'Plastic'), (28, 'Plastic'), (29, 'Plastic')], solution_flows=[(11, 'Plastic'), (12, 'Plastic'), (13, 'Plastic')], solution=2, flow_to_remove=None, target_vertex=None, ratio=0.0)\n"
     ]
    }
   ],
   "source": [
    "sol1 = solutions[0]\n",
    "print(sol1)"
   ]
  },
  {
   "cell_type": "markdown",
   "metadata": {},
   "source": [
    "The procedure below simulates the user who selects the *solution_flows*. Required input:\n",
    "\n",
    "+ material\n",
    "\n",
    "+ ID of source vertex\n",
    "\n",
    "+ ID of target vertex\n",
    "\n",
    "Alternatively, we can use edge IDs instead of vertex IDs if that is easier to get."
   ]
  },
  {
   "cell_type": "code",
   "execution_count": 15,
   "metadata": {},
   "outputs": [],
   "source": [
    "affected_flows = []\n",
    "\n",
    "# edge\n",
    "material = 'Milk'\n",
    "v_source = util.find_vertex(g_split, g_split.vp[\"id\"], 16)\n",
    "v_target = util.find_vertex(g_split, g_split.vp[\"id\"], 12)\n",
    "e = g_split.edge(v_source[0], v_target[0], all_edges=True)\n",
    "e_to_add = [edge for edge in e if eprop_material[edge] == material]\n",
    "assert len(e_to_add) == 1, \"There are parallel edges in %s --> %s\" % (g_split.vp.id[v_source[0]], g_split.vp.id[v_target[0]])\n",
    "affected_flows.extend(e_to_add)\n",
    "\n",
    "v_source = util.find_vertex(g_split, g_split.vp[\"id\"], 17)\n",
    "v_target = util.find_vertex(g_split, g_split.vp[\"id\"], 12)\n",
    "e = g_split.edge(v_source[0], v_target[0], all_edges=True)\n",
    "e_to_add = [edge for edge in e if eprop_material[edge] == material]\n",
    "assert len(e_to_add) == 1, \"There are parallel edges in %s --> %s\" % (g_split.vp.id[v_source[0]], g_split.vp.id[v_target[0]])\n",
    "affected_flows.extend(e_to_add)\n",
    "\n",
    "edge_mask, ecolors = define_mask(g_split, affected_flows)\n",
    "for e in solution_flows:\n",
    "    ecolors[e] = \"blue\""
   ]
  },
  {
   "cell_type": "code",
   "execution_count": 58,
   "metadata": {},
   "outputs": [],
   "source": [
    "edge_mask = filter_flows(G, solutions[0])"
   ]
  },
  {
   "cell_type": "markdown",
   "metadata": {},
   "source": [
    "### Compute the changes"
   ]
  },
  {
   "cell_type": "code",
   "execution_count": 74,
   "metadata": {},
   "outputs": [
    {
     "data": {
      "text/plain": [
       "<PropertyMap object with key type 'Edge' and value type 'int32_t', for Graph 0x7fe420b9b898, at 0x7fe420b9b6a0>"
      ]
     },
     "execution_count": 74,
     "metadata": {},
     "output_type": "execute_result"
    }
   ],
   "source": [
    "G.ep.amount"
   ]
  },
  {
   "cell_type": "code",
   "execution_count": 79,
   "metadata": {},
   "outputs": [],
   "source": [
    "changes = traverse_graph(G, solutions[0].solution_flows, edge_mask, solutions[0].solution, G.ep.amount, upstream=True)"
   ]
  },
  {
   "cell_type": "code",
   "execution_count": 9,
   "metadata": {
    "scrolled": true
   },
   "outputs": [
    {
     "name": "stdout",
     "output_type": "stream",
     "text": [
      "Farm --> Packaging -26.0\n",
      "Packaging --> Consumption -26.0\n",
      "Consumption --> Waste -20.526315789473685\n",
      "Consumption --> Waste 2 -5.473684210526315\n"
     ]
    }
   ],
   "source": [
    "for i,e in enumerate(G.edges()):\n",
    "    if changes[e] != 0.0:\n",
    "        print(G.vp.id[e.source()], '-->', G.vp.id[e.target()], changes[e])"
   ]
  },
  {
   "cell_type": "code",
   "execution_count": 81,
   "metadata": {},
   "outputs": [
    {
     "name": "stdout",
     "output_type": "stream",
     "text": [
      "oil_refinery_rotterdam --> production_utrecht 4.0\n",
      "production_utrecht --> packaging_utrecht 6.0\n",
      "recycling_wageningen --> production_utrecht 2.0\n",
      "ah_den_haag_1 --> recycling_wageningen 0.75\n",
      "ah_den_haag_2 --> recycling_wageningen 2.25\n",
      "ah_den_haag_3 --> recycling_wageningen 3.0\n",
      "packaging_utrecht --> ah_den_haag_1 2.0\n",
      "packaging_utrecht --> ah_den_haag_2 3.0\n",
      "packaging_utrecht --> ah_den_haag_3 1.0\n"
     ]
    }
   ],
   "source": [
    "for i,e in enumerate(G.edges()):\n",
    "    if changes[e] != 0.0:\n",
    "        print(G.vp.name[e.source()], '-->', G.vp.name[e.target()], changes[e])"
   ]
  },
  {
   "cell_type": "markdown",
   "metadata": {},
   "source": [
    "### Apply the changes\n",
    "Once the changes are computed, the new *amount* can be computed for each edge as *amount + change*"
   ]
  },
  {
   "cell_type": "markdown",
   "metadata": {},
   "source": [
    "## 2. Computing add/remove flows\n",
    "\n",
    "### Case of Bread to Beer"
   ]
  },
  {
   "cell_type": "code",
   "execution_count": 10,
   "metadata": {
    "collapsed": true
   },
   "outputs": [],
   "source": [
    "G = gt.load_graph(\"breadbeer.gt\")\n",
    "\n",
    "g_split, eprop_material, eprop_amount, eprop_amount_text = split_flows(G)"
   ]
  },
  {
   "cell_type": "code",
   "execution_count": 11,
   "metadata": {
    "collapsed": true
   },
   "outputs": [],
   "source": [
    "v_source = util.find_vertex(g_split, g_split.vp[\"id\"], \"Households\")\n",
    "v_target = util.find_vertex(g_split, g_split.vp[\"id\"], \"Incineration\")\n",
    "pe = g_split.edge(v_source[0], v_target[0], all_edges=True)\n",
    "edge_to_remove = [e for e in pe if eprop_material[e] == 'bread'][0] # because there are prallel edges, we need to identify them by material\n",
    "\n",
    "v_target = util.find_vertex(g_split, g_split.vp[\"id\"], \"Brewery\")[0]"
   ]
  },
  {
   "cell_type": "code",
   "execution_count": 12,
   "metadata": {
    "collapsed": true
   },
   "outputs": [],
   "source": [
    "# Shift the flow Households-->Brewery\n",
    "shifted_g, solution_edge, shifted_material, shifted_mass, shifted_mass_text = shift_flow(g_split, \\\n",
    "                                                                          edge_to_remove=edge_to_remove, \\\n",
    "                                                                          target_vertex=v_target, \\\n",
    "                                                                          eprop_material=eprop_material, \\\n",
    "                                                                          eprop_mass=eprop_amount, \\\n",
    "                                                                          eprop_mass_text=eprop_amount_text)"
   ]
  },
  {
   "cell_type": "code",
   "execution_count": 13,
   "metadata": {},
   "outputs": [
    {
     "name": "stdout",
     "output_type": "stream",
     "text": [
      "Nodes removed from G1: \n",
      "Nodes added to G1: \n",
      "\n",
      "Flows removed from G1:\n",
      "Households --> Incineration\n",
      "\n",
      "Flows added to G1:\n",
      "Households --> Brewery\n"
     ]
    }
   ],
   "source": [
    "compare_graphs(g_split, shifted_g)"
   ]
  },
  {
   "cell_type": "code",
   "execution_count": 14,
   "metadata": {
    "collapsed": true
   },
   "outputs": [],
   "source": [
    "solution_edges = []\n",
    "\n",
    "# edge\n",
    "material = 'barley'\n",
    "v_source = util.find_vertex(shifted_g, shifted_g.vp[\"id\"], \"Farm\")\n",
    "v_target = util.find_vertex(shifted_g, shifted_g.vp[\"id\"], \"Brewery\")\n",
    "e = shifted_g.edge(v_source[0], v_target[0], all_edges=True)\n",
    "e_to_add = [edge for edge in e if shifted_material[edge] == material]\n",
    "assert len(e_to_add) == 1, \"There are parallel edges in %s --> %s\" % (shifted_g.vp.id[v_source[0]], shifted_g.vp.id[v_target[0]])\n",
    "solution_edges.extend(e_to_add)\n",
    "\n",
    "# edge\n",
    "material = 'bread'\n",
    "v_source = util.find_vertex(shifted_g, shifted_g.vp[\"id\"], \"Households\")\n",
    "v_target = util.find_vertex(shifted_g, shifted_g.vp[\"id\"], \"Brewery\")\n",
    "e = shifted_g.edge(v_source[0], v_target[0], all_edges=True)\n",
    "e_to_add = [edge for edge in e if shifted_material[edge] == material]\n",
    "assert len(e_to_add) == 1, \"There are parallel edges in %s --> %s\" % (shifted_g.vp.id[v_source[0]], shifted_g.vp.id[v_target[0]])\n",
    "solution_edges.extend(e_to_add)\n",
    "\n",
    "edge_mask, ecolors = define_mask(shifted_g, solution_edges)\n",
    "ecolors[solution_edge] = \"blue\""
   ]
  },
  {
   "cell_type": "code",
   "execution_count": 15,
   "metadata": {
    "collapsed": true
   },
   "outputs": [],
   "source": [
    "ratios = shifted_g.new_edge_property(\"float\")\n",
    "ratios[solution_edge] = (3/5) * (1/2)"
   ]
  },
  {
   "cell_type": "code",
   "execution_count": 22,
   "metadata": {
    "collapsed": true
   },
   "outputs": [],
   "source": [
    "changes = apply_ratio(shifted_g, solution_edge, ratios, shifted_mass)"
   ]
  },
  {
   "cell_type": "code",
   "execution_count": 23,
   "metadata": {},
   "outputs": [
    {
     "name": "stdout",
     "output_type": "stream",
     "text": [
      "Farm --> Brewery -3.5\n"
     ]
    }
   ],
   "source": [
    "for i,e in enumerate(g_split.edges()):\n",
    "    if changes[e] != 0.0:\n",
    "        print(g_split.vp.id[e.source()], '-->', g_split.vp.id[e.target()], changes[e])"
   ]
  },
  {
   "cell_type": "code",
   "execution_count": null,
   "metadata": {
    "collapsed": true
   },
   "outputs": [],
   "source": []
  }
 ],
 "metadata": {
  "kernelspec": {
   "display_name": "Python 3",
   "language": "python",
   "name": "python3"
  },
  "language_info": {
   "codemirror_mode": {
    "name": "ipython",
    "version": 3
   },
   "file_extension": ".py",
   "mimetype": "text/x-python",
   "name": "python",
   "nbconvert_exporter": "python",
   "pygments_lexer": "ipython3",
   "version": "3.6.5"
  }
 },
 "nbformat": 4,
 "nbformat_minor": 2
}
