{
 "cells": [
  {
   "cell_type": "markdown",
   "metadata": {},
   "source": [
    "# Compute the effects of solution on flows\n",
    "\n",
    "This notebook illustrates the interface for computing the changes by solutions. For more detailed description of the why-s and how-s and the Solutions, see the notebooks with lower fm-number.\n",
    "\n",
    "## The algorithm expects a graph (G) with these properties\n",
    "\n",
    "+ vertices have unique IDs, stored in an internal vertex property called *id* (string)\n",
    "\n",
    "+ there is only a single edge between two vertices (no parallels)\n",
    "\n",
    "+ edges have an internal edge property called *flow*, which is a dictionary that must have:\n",
    "\n",
    "    + *amount* : float\n",
    "    \n",
    "    + *composition* : dictionary of { material (string) : amount (float) }\n",
    "    \n",
    "\n",
    "## The algorithm expects the following input\n",
    "\n",
    "Currently there are 6 parameters for computing changes on a graph. From these 6, 3 are required and 3 are optional. This second group is only needed when a flows needs to be shifted. For more details see `solution_object.json`\n",
    "\n",
    "### Input\n",
    "\n",
    "+ a graph (G) as described above, type `graph_tool.Graph`\n",
    "\n",
    "+ a *solution object* as described by the `solution_object.json` schema\n",
    "\n",
    "### Output\n",
    "\n",
    "+ an Edge PropertyMap of the signed changes that is caused by the solution"
   ]
  },
  {
   "cell_type": "code",
   "execution_count": 1,
   "metadata": {
    "collapsed": true
   },
   "outputs": [],
   "source": [
    "import graph_tool as gt\n",
    "from graph_tool import util\n",
    "import graph_tool.search\n",
    "from graph_tool import Edge, Graph, Vertex, PropertyMap\n",
    "import numpy as np\n",
    "import datetime"
   ]
  },
  {
   "cell_type": "code",
   "execution_count": 2,
   "metadata": {},
   "outputs": [
    {
     "name": "stdout",
     "output_type": "stream",
     "text": [
      "Last run: 2018-12-04\n"
     ]
    }
   ],
   "source": [
    "print(\"Last run:\", datetime.datetime.now().date().isoformat())"
   ]
  },
  {
   "cell_type": "markdown",
   "metadata": {},
   "source": [
    "## 0. Function definitions"
   ]
  },
  {
   "cell_type": "code",
   "execution_count": 21,
   "metadata": {
    "collapsed": true
   },
   "outputs": [],
   "source": [
    "def split_flows(G):\n",
    "    \"\"\"Split the flows based on material composition\n",
    "    \n",
    "    If a flow is composed of different materials, it is split into individual flows per material \n",
    "    with the corresponding amount.\n",
    "    If the flow is composed of a single material, the composition property is removed and replaced with material.\n",
    "    \n",
    "    Returns\n",
    "    -------\n",
    "    graph\n",
    "        The updated graph\n",
    "    eprop_material\n",
    "        Edge property (materials), string\n",
    "    eprop_amount\n",
    "        Edge property (amount), double\n",
    "    eprop_amount_text\n",
    "        Edge property (amount), string. Only needed for plotting the amounts on the edges with graph-tool\n",
    "    \"\"\"\n",
    "    g = G.copy()\n",
    "    g.clear_edges()\n",
    "    del g.edge_properties['flow']\n",
    "    eprops = G.edge_properties.keys()\n",
    "    amount_list = []\n",
    "    material_list = []\n",
    "    assert 'flow' in eprops, \"The graph must have 'flow' edge property\"\n",
    "    e_list = []\n",
    "    for e in G.edges():\n",
    "        prop = G.ep.flow[e]\n",
    "        assert isinstance(prop, dict), \"Edge property flow must be a dictionary in edge {}\".format(e)\n",
    "        for material, percent in prop['composition'].items():\n",
    "            e_list.append(np.array([e.source(), e.target()], dtype=int))\n",
    "            amount_list.append(float(prop['amount']) * float(percent))\n",
    "            material_list.append(material)\n",
    "    e_array = np.vstack(e_list)\n",
    "    g.add_edge_list(e_array)\n",
    "    eprop_amount = g.new_edge_property(\"float\", vals=amount_list)\n",
    "    eprop_amount_text = g.new_edge_property(\"string\", vals=[round(i,2) for i in amount_list])\n",
    "    eprop_material = g.new_edge_property(\"string\", vals=material_list)\n",
    "    return (g, eprop_material, eprop_amount, eprop_amount_text)\n",
    "\n",
    "\n",
    "def define_mask(G, edges):\n",
    "    \"\"\"Create an edge mask for the edges that define the solution\n",
    "    \n",
    "    Parameters\n",
    "    ----------\n",
    "    G : Graph, directed\n",
    "    edges : an iterable of edge objects that will be included, the rest of the edges are filtered out from the graph\n",
    "    \n",
    "    Returns\n",
    "    --------\n",
    "    tuple\n",
    "        mask : Edge ProperyMap (bool) of the masked edges\n",
    "        cols : Edge ProperyMap (string) of the edge colours. Used for plotting the included edges (green), excluded (red) with graph-tools\n",
    "    \"\"\"\n",
    "    cols = []\n",
    "    mask = G.new_edge_property(\"bool\")\n",
    "    for i,e in enumerate(G.edges()):\n",
    "        if e in edges:\n",
    "            mask[e] = True\n",
    "            cols.append(\"green\")\n",
    "        else:\n",
    "            mask[e] = False\n",
    "            cols.append(\"red\")\n",
    "    \n",
    "    return (mask, G.new_edge_property(\"string\", vals=cols))\n",
    "\n",
    "\n",
    "class NodeVisitor(gt.search.BFSVisitor):\n",
    "\n",
    "    def __init__(self, name, solution, amount, visited, change):\n",
    "        self.id = name\n",
    "        self.solution = solution\n",
    "        self.amount = amount\n",
    "        self.visited = visited\n",
    "        self.change = change\n",
    "\n",
    "    def discover_vertex(self, u):\n",
    "        \"\"\"This is invoked when a vertex is encountered for the first time.\"\"\"\n",
    "        pass\n",
    "\n",
    "    def examine_vertex(self, u):\n",
    "        \"\"\"Compute the amount change on each inflow for the vertex\n",
    "        \n",
    "        This function is invoked on a vertex as it is popped from the queue.\n",
    "\n",
    "        Returns\n",
    "        -------\n",
    "        dict\n",
    "            {edge : change}\n",
    "        \"\"\"\n",
    "        changes = {}\n",
    "        if u.in_degree() > 0:\n",
    "            all_in = list(u.in_edges())\n",
    "            for i,e in enumerate(all_in):\n",
    "                if not self.visited[e]:\n",
    "                    e_src = e.source()\n",
    "                    e_src_out = [e for e in e_src.out_edges()]\n",
    "                    if len(e_src_out) > 1:\n",
    "                        # For the case when an inflow edge shares the source vertex\n",
    "                        self.change[e] = ( self.amount[e] / sum([self.amount[out_f] for out_f in e_src_out]) ) * self.solution\n",
    "                    else:\n",
    "                        self.change[e] = ( self.amount[e] / sum([self.amount[in_f] for in_f in all_in]) ) * self.solution\n",
    "                    #print(self.id[e.source()], '-->', self.id[e.target()], self.change[e])\n",
    "                    self.visited[e] = True\n",
    "        else:\n",
    "            #print(\"source node,\", u.vp.id)\n",
    "            pass\n",
    "        \n",
    "def traverse_graph(G, edge, include, solution, amount, upstream=True):\n",
    "    \"\"\"Traverse the graph in a breadth-first-search manner\n",
    "    \n",
    "    Parameters\n",
    "    ----------\n",
    "    G : the graph to explore\n",
    "    edge : the starting edge, normally this is the *solution edge*\n",
    "    visited : edge propery map (bool) to indicate which edge have been visited\n",
    "    include : edge propery map (bool) to indicate the edges that are part of the solution definition\n",
    "    upstream : The direction of traversal. When upstream is True, the graph is explored upstream first, otherwise downstream first.  \n",
    "    \n",
    "    Returns\n",
    "    -------\n",
    "    Edge ProperyMap (float)\n",
    "        The signed change on the edges\n",
    "    \"\"\"\n",
    "    # Property map for keeping track of the visited edge. Once an edge has been visited\n",
    "    # it won't be processed anymore.\n",
    "    r = (False for x in G.get_edges())\n",
    "    visited = G.new_edge_property(\"bool\", vals=r)\n",
    "    change = G.new_edge_property(\"float\")\n",
    "    #G.edge_properties[\"change\"] = change\n",
    "    # By default we go upstream first, because 'demand dictates supply'\n",
    "    if upstream:\n",
    "        G.set_reversed(True)\n",
    "    else:\n",
    "        G.set_reversed(False)\n",
    "    node = edge.target()\n",
    "    # We are only interested in the edges that define the solution\n",
    "    G.set_edge_filter(include)\n",
    "    #print(\"\\nTraversing in 1. direction\")\n",
    "    gt.search.bfs_search(G, node, NodeVisitor(G.vp[\"id\"], solution, amount, visited, change))\n",
    "    if G.is_reversed():\n",
    "        G.set_reversed(False)\n",
    "    else:\n",
    "        G.set_reversed(True)\n",
    "    #print(\"\\nTraversing in 2. direction\")\n",
    "    gt.search.bfs_search(G, node, NodeVisitor(G.vp[\"id\"], solution, amount, visited, change))\n",
    "    del visited\n",
    "    G.set_reversed(False)\n",
    "    G.clear_filters()\n",
    "    return change\n",
    "\n",
    "\n",
    "def shift_flow(G, edge_to_remove, target_vertex, eprop_material, eprop_mass, eprop_mass_text):\n",
    "    \"\"\"Shifts a flow by removing an existing flow and adding a new flow\n",
    "    \n",
    "    Return\n",
    "    ------\n",
    "    graph\n",
    "        (Copy of the graph with the shifted flow, copies of the property maps with the shifted flow)\n",
    "    \"\"\"\n",
    "    assert isinstance(G, Graph)\n",
    "    assert isinstance(edge_to_remove, Edge)\n",
    "    assert isinstance(target_vertex, Vertex)\n",
    "    assert isinstance(eprop_material, PropertyMap)\n",
    "    assert isinstance(eprop_mass, PropertyMap)\n",
    "    assert isinstance(eprop_mass_text, PropertyMap)\n",
    "    \n",
    "    g = G.copy()\n",
    "    mat = g.new_edge_property(\"string\", vals=eprop_material)\n",
    "    mass = g.new_edge_property(\"float\", vals=eprop_mass)\n",
    "    mass_text = g.new_edge_property(\"string\", vals=eprop_mass_text)\n",
    "    \n",
    "    edge_to_add = g.add_edge(edge_to_remove.source(), target_vertex)\n",
    "    mat[edge_to_add] = eprop_material[edge_to_remove]\n",
    "    mass[edge_to_add] = eprop_mass[edge_to_remove]\n",
    "    mass_text[edge_to_add] = eprop_mass_text[edge_to_remove]\n",
    "    g.remove_edge(edge_to_remove)\n",
    "    \n",
    "    return (g, edge_to_add, mat, mass, mass_text)\n",
    "\n",
    "\n",
    "def compare_graphs(G1, G2):\n",
    "    \"\"\"Compare G2 to G1 and report the changes in vertices and edges\"\"\"\n",
    "    assert \"id\" in G1.vertex_properties.keys()\n",
    "    assert \"id\" in G2.vertex_properties.keys()\n",
    "    vtx_removed = set(G1.vp[\"id\"]) - set(G2.vp[\"id\"])\n",
    "    vtx_added = set(G2.vp[\"id\"]) - set(G1.vp[\"id\"])\n",
    "    e_removed = [e for e in G1.edges() if e not in G2.edges()]\n",
    "    e_added = [e for e in G2.edges() if e not in G1.edges()]\n",
    "    \n",
    "    print(\"Nodes removed from G1:\", \", \".join(vtx_removed))\n",
    "    print(\"Nodes added to G1:\", \", \".join(vtx_added))\n",
    "    print(\"\\nFlows removed from G1:\")\n",
    "    for e in e_removed:\n",
    "        print(G1.vp.id[e.source()], '-->', G1.vp.id[e.target()])\n",
    "    print(\"\\nFlows added to G1:\")\n",
    "    for e in e_added:\n",
    "        print(G2.vp.id[e.source()], '-->', G2.vp.id[e.target()])\n",
    "    pass\n",
    "\n",
    "\n",
    "def apply_ratio(G, solution_edge, ratios, mass):\n",
    "    \"\"\"Apply the ratio to the flows\n",
    "    \n",
    "    Returns\n",
    "    -------\n",
    "    Edge PropertyMap\n",
    "        Signed change of the amount\n",
    "    \"\"\"\n",
    "    change_map = G.new_edge_property(\"float\")\n",
    "    v = solution_edge.target()\n",
    "    for e in v.in_edges():\n",
    "        if e != solution_edge:\n",
    "            change = ( mass[solution_edge] * ratios[solution_edge] ) - mass[solution_edge]\n",
    "            change_map[e] = change\n",
    "            #print(G.vp.id[e.source()], '-->', G.vp.id[e.target()], change)\n",
    "        else:\n",
    "            change_map[e] = 0.0\n",
    "    return change_map"
   ]
  },
  {
   "cell_type": "markdown",
   "metadata": {},
   "source": [
    "## 1. Computing increasing/decreasing flows"
   ]
  },
  {
   "cell_type": "markdown",
   "metadata": {},
   "source": [
    "Reduce milk production by 40% from the Farm. This also reduces the plastic packaging."
   ]
  },
  {
   "cell_type": "code",
   "execution_count": 4,
   "metadata": {
    "collapsed": true
   },
   "outputs": [],
   "source": [
    "G = gt.load_graph(\"cucumba.gt\")"
   ]
  },
  {
   "cell_type": "code",
   "execution_count": 5,
   "metadata": {
    "collapsed": true
   },
   "outputs": [],
   "source": [
    "g_split, eprop_material, eprop_amount, eprop_amount_text = split_flows(G)"
   ]
  },
  {
   "cell_type": "markdown",
   "metadata": {},
   "source": [
    "### Define the solution"
   ]
  },
  {
   "cell_type": "code",
   "execution_count": 6,
   "metadata": {},
   "outputs": [
    {
     "name": "stdout",
     "output_type": "stream",
     "text": [
      "Current milk amount after Farm: 65.0\n",
      "Solution: -26.0\n",
      "Milk amount after implementing the solution: 39.0\n"
     ]
    }
   ],
   "source": [
    "pe = g_split.edge(g_split.vertex(0), g_split.vertex(1), all_edges=True) # the 2 edges between Farm and Packaging\n",
    "solution_edge = [e for e in pe if eprop_material[e] == 'milk'][0] # the specific edge (blue)\n",
    "solution = -26.0\n",
    "\n",
    "print(\"Current milk amount after Farm:\", round(eprop_amount[solution_edge],2))\n",
    "print(\"Solution:\", solution)\n",
    "print(\"Milk amount after implementing the solution:\", round(eprop_amount[solution_edge] + solution,2))"
   ]
  },
  {
   "cell_type": "markdown",
   "metadata": {},
   "source": [
    "The procedure below simulates the user who selects the edges for a Solution"
   ]
  },
  {
   "cell_type": "code",
   "execution_count": 7,
   "metadata": {
    "collapsed": true
   },
   "outputs": [],
   "source": [
    "solution_edges = []\n",
    "material = 'milk'\n",
    "\n",
    "# edge\n",
    "v_source = util.find_vertex(g_split, g_split.vp[\"id\"], \"Farm\")\n",
    "v_target = util.find_vertex(g_split, g_split.vp[\"id\"], \"Packaging\")\n",
    "e = g_split.edge(v_source[0], v_target[0], all_edges=True)\n",
    "e_to_add = [edge for edge in e if eprop_material[edge] == material]\n",
    "assert len(e_to_add) == 1, \"There are parallel edges in %s --> %s\" % (g_split.vp.id[v_source[0]], g_split.vp.id[v_target[0]])\n",
    "solution_edges.extend(e_to_add)\n",
    "\n",
    "# edge\n",
    "v_source = util.find_vertex(g_split, g_split.vp[\"id\"], \"Packaging\")\n",
    "v_target = util.find_vertex(g_split, g_split.vp[\"id\"], \"Consumption\")\n",
    "e = g_split.edge(v_source[0], v_target[0], all_edges=True)\n",
    "e_to_add = [edge for edge in e if eprop_material[edge] == material]\n",
    "assert len(e_to_add) == 1, \"There are parallel edges in %s --> %s\" % (g_split.vp.id[v_source[0]], g_split.vp.id[v_target[0]])\n",
    "solution_edges.extend(e_to_add)\n",
    "\n",
    "# edge\n",
    "material = 'human waste'\n",
    "v_source = util.find_vertex(g_split, g_split.vp[\"id\"], \"Consumption\")\n",
    "v_target = util.find_vertex(g_split, g_split.vp[\"id\"], \"Waste\")\n",
    "e = g_split.edge(v_source[0], v_target[0], all_edges=True)\n",
    "e_to_add = [edge for edge in e if eprop_material[edge] == material]\n",
    "assert len(e_to_add) == 1, \"There are parallel edges in %s --> %s\" % (g_split.vp.id[v_source[0]], g_split.vp.id[v_target[0]])\n",
    "solution_edges.extend(e_to_add)\n",
    "\n",
    "# edge\n",
    "material = 'other waste'\n",
    "v_source = util.find_vertex(g_split, g_split.vp[\"id\"], \"Consumption\")\n",
    "v_target = util.find_vertex(g_split, g_split.vp[\"id\"], \"Waste 2\")\n",
    "e = g_split.edge(v_source[0], v_target[0], all_edges=True)\n",
    "e_to_add = [edge for edge in e if eprop_material[edge] == material]\n",
    "assert len(e_to_add) == 1, \"There are parallel edges in %s --> %s\" % (g_split.vp.id[v_source[0]], g_split.vp.id[v_target[0]])\n",
    "solution_edges.extend(e_to_add)\n",
    "\n",
    "edge_mask, ecolors = define_mask(g_split, solution_edges)\n",
    "ecolors[solution_edge] = \"blue\""
   ]
  },
  {
   "cell_type": "markdown",
   "metadata": {},
   "source": [
    "### Compute the changes"
   ]
  },
  {
   "cell_type": "code",
   "execution_count": 8,
   "metadata": {
    "collapsed": true
   },
   "outputs": [],
   "source": [
    "changes = traverse_graph(g_split, solution_edge, edge_mask, solution, eprop_amount, upstream=True)"
   ]
  },
  {
   "cell_type": "code",
   "execution_count": 9,
   "metadata": {
    "scrolled": true
   },
   "outputs": [
    {
     "name": "stdout",
     "output_type": "stream",
     "text": [
      "Farm --> Packaging -26.0\n",
      "Packaging --> Consumption -26.0\n",
      "Consumption --> Waste -20.526315789473685\n",
      "Consumption --> Waste 2 -5.473684210526315\n"
     ]
    }
   ],
   "source": [
    "for i,e in enumerate(g_split.edges()):\n",
    "    if changes[e] != 0.0:\n",
    "        print(g_split.vp.id[e.source()], '-->', g_split.vp.id[e.target()], changes[e])"
   ]
  },
  {
   "cell_type": "markdown",
   "metadata": {},
   "source": [
    "### Apply the changes\n",
    "Once the changes are computed, the new *amount* can be computed for each edge as *amount + change*"
   ]
  },
  {
   "cell_type": "markdown",
   "metadata": {},
   "source": [
    "## 2. Computing add/remove flows\n",
    "\n",
    "### Case of Bread to Beer"
   ]
  },
  {
   "cell_type": "code",
   "execution_count": 10,
   "metadata": {
    "collapsed": true
   },
   "outputs": [],
   "source": [
    "G = gt.load_graph(\"breadbeer.gt\")\n",
    "\n",
    "g_split, eprop_material, eprop_amount, eprop_amount_text = split_flows(G)"
   ]
  },
  {
   "cell_type": "code",
   "execution_count": 11,
   "metadata": {
    "collapsed": true
   },
   "outputs": [],
   "source": [
    "v_source = util.find_vertex(g_split, g_split.vp[\"id\"], \"Households\")\n",
    "v_target = util.find_vertex(g_split, g_split.vp[\"id\"], \"Incineration\")\n",
    "pe = g_split.edge(v_source[0], v_target[0], all_edges=True)\n",
    "edge_to_remove = [e for e in pe if eprop_material[e] == 'bread'][0] # because there are prallel edges, we need to identify them by material\n",
    "\n",
    "v_target = util.find_vertex(g_split, g_split.vp[\"id\"], \"Brewery\")[0]"
   ]
  },
  {
   "cell_type": "code",
   "execution_count": 12,
   "metadata": {
    "collapsed": true
   },
   "outputs": [],
   "source": [
    "# Shift the flow Households-->Brewery\n",
    "shifted_g, solution_edge, shifted_material, shifted_mass, shifted_mass_text = shift_flow(g_split, \\\n",
    "                                                                          edge_to_remove=edge_to_remove, \\\n",
    "                                                                          target_vertex=v_target, \\\n",
    "                                                                          eprop_material=eprop_material, \\\n",
    "                                                                          eprop_mass=eprop_amount, \\\n",
    "                                                                          eprop_mass_text=eprop_amount_text)"
   ]
  },
  {
   "cell_type": "code",
   "execution_count": 13,
   "metadata": {},
   "outputs": [
    {
     "name": "stdout",
     "output_type": "stream",
     "text": [
      "Nodes removed from G1: \n",
      "Nodes added to G1: \n",
      "\n",
      "Flows removed from G1:\n",
      "Households --> Incineration\n",
      "\n",
      "Flows added to G1:\n",
      "Households --> Brewery\n"
     ]
    }
   ],
   "source": [
    "compare_graphs(g_split, shifted_g)"
   ]
  },
  {
   "cell_type": "code",
   "execution_count": 14,
   "metadata": {
    "collapsed": true
   },
   "outputs": [],
   "source": [
    "solution_edges = []\n",
    "\n",
    "# edge\n",
    "material = 'barley'\n",
    "v_source = util.find_vertex(shifted_g, shifted_g.vp[\"id\"], \"Farm\")\n",
    "v_target = util.find_vertex(shifted_g, shifted_g.vp[\"id\"], \"Brewery\")\n",
    "e = shifted_g.edge(v_source[0], v_target[0], all_edges=True)\n",
    "e_to_add = [edge for edge in e if shifted_material[edge] == material]\n",
    "assert len(e_to_add) == 1, \"There are parallel edges in %s --> %s\" % (shifted_g.vp.id[v_source[0]], shifted_g.vp.id[v_target[0]])\n",
    "solution_edges.extend(e_to_add)\n",
    "\n",
    "# edge\n",
    "material = 'bread'\n",
    "v_source = util.find_vertex(shifted_g, shifted_g.vp[\"id\"], \"Households\")\n",
    "v_target = util.find_vertex(shifted_g, shifted_g.vp[\"id\"], \"Brewery\")\n",
    "e = shifted_g.edge(v_source[0], v_target[0], all_edges=True)\n",
    "e_to_add = [edge for edge in e if shifted_material[edge] == material]\n",
    "assert len(e_to_add) == 1, \"There are parallel edges in %s --> %s\" % (shifted_g.vp.id[v_source[0]], shifted_g.vp.id[v_target[0]])\n",
    "solution_edges.extend(e_to_add)\n",
    "\n",
    "edge_mask, ecolors = define_mask(shifted_g, solution_edges)\n",
    "ecolors[solution_edge] = \"blue\""
   ]
  },
  {
   "cell_type": "code",
   "execution_count": 15,
   "metadata": {
    "collapsed": true
   },
   "outputs": [],
   "source": [
    "ratios = shifted_g.new_edge_property(\"float\")\n",
    "ratios[solution_edge] = (3/5) * (1/2)"
   ]
  },
  {
   "cell_type": "code",
   "execution_count": 22,
   "metadata": {
    "collapsed": true
   },
   "outputs": [],
   "source": [
    "changes = apply_ratio(shifted_g, solution_edge, ratios, shifted_mass)"
   ]
  },
  {
   "cell_type": "code",
   "execution_count": 23,
   "metadata": {},
   "outputs": [
    {
     "name": "stdout",
     "output_type": "stream",
     "text": [
      "Farm --> Brewery -3.5\n"
     ]
    }
   ],
   "source": [
    "for i,e in enumerate(g_split.edges()):\n",
    "    if changes[e] != 0.0:\n",
    "        print(g_split.vp.id[e.source()], '-->', g_split.vp.id[e.target()], changes[e])"
   ]
  },
  {
   "cell_type": "code",
   "execution_count": null,
   "metadata": {
    "collapsed": true
   },
   "outputs": [],
   "source": []
  }
 ],
 "metadata": {
  "kernelspec": {
   "display_name": "Python 3",
   "language": "python",
   "name": "python3"
  },
  "language_info": {
   "codemirror_mode": {
    "name": "ipython",
    "version": 3
   },
   "file_extension": ".py",
   "mimetype": "text/x-python",
   "name": "python",
   "nbconvert_exporter": "python",
   "pygments_lexer": "ipython3",
   "version": "3.6.3"
  }
 },
 "nbformat": 4,
 "nbformat_minor": 2
}
